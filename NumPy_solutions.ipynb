{
  "cells": [
    {
      "cell_type": "markdown",
      "metadata": {
        "id": "view-in-github",
        "colab_type": "text"
      },
      "source": [
        "<a href=\"https://colab.research.google.com/github/PavelSazhin27/Innopolis_test/blob/main/NumPy_solutions.ipynb\" target=\"_parent\"><img src=\"https://colab.research.google.com/assets/colab-badge.svg\" alt=\"Open In Colab\"/></a>"
      ]
    },
    {
      "cell_type": "markdown",
      "metadata": {
        "id": "nqBgOPcJir2S"
      },
      "source": [
        "# Упражнения с NumPy \n",
        "\n",
        "Давайте проверим ваши знания. Мы начнем с нескольких простых задач, а затем вам будут заданы несколько более сложных вопросов.\n",
        "\n",
        "Важно! Код, который вы напишите в этом ноутбуке, вам нужно сохранить в виде файла c именем \"Numpy_solutions.ipynb\" в вашем личном репозитории на GitHub."
      ]
    },
    {
      "cell_type": "markdown",
      "metadata": {
        "id": "dR9AT-Q5ir2V"
      },
      "source": [
        "#### 1. Импорт NumPy "
      ]
    },
    {
      "cell_type": "code",
      "execution_count": 2,
      "metadata": {
        "id": "84NP_NQTir2V"
      },
      "outputs": [],
      "source": [
        "import numpy as np"
      ]
    },
    {
      "cell_type": "markdown",
      "metadata": {
        "id": "gJYmbEZlir2W"
      },
      "source": [
        "#### 2. Создать массив из 10 нулей"
      ]
    },
    {
      "cell_type": "code",
      "execution_count": 3,
      "metadata": {
        "collapsed": true,
        "id": "xe-RNIWGir2W",
        "outputId": "2f44aae4-ed9e-45a5-85dc-0f2e60cb9b87",
        "colab": {
          "base_uri": "https://localhost:8080/"
        }
      },
      "outputs": [
        {
          "output_type": "execute_result",
          "data": {
            "text/plain": [
              "array([0., 0., 0., 0., 0., 0., 0., 0., 0., 0.])"
            ]
          },
          "metadata": {},
          "execution_count": 3
        }
      ],
      "source": [
        "np.zeros(10)\n"
      ]
    },
    {
      "cell_type": "code",
      "execution_count": null,
      "metadata": {
        "id": "AcLVFJqEir2X",
        "outputId": "116e7728-bbf2-4d73-bc47-e575ba5ab9fc"
      },
      "outputs": [
        {
          "data": {
            "text/plain": [
              "array([0., 0., 0., 0., 0., 0., 0., 0., 0., 0.])"
            ]
          },
          "execution_count": 2,
          "metadata": {},
          "output_type": "execute_result"
        }
      ],
      "source": [
        "# не пишите код в этой ячейке"
      ]
    },
    {
      "cell_type": "markdown",
      "metadata": {
        "id": "7FDWNyRZir2Y"
      },
      "source": [
        "#### 3. Создать массив из 10 единиц"
      ]
    },
    {
      "cell_type": "code",
      "execution_count": 4,
      "metadata": {
        "collapsed": true,
        "id": "BZMCzyoPir2Y",
        "outputId": "8e88b85b-2e2c-480b-e711-e901868c2eb0",
        "colab": {
          "base_uri": "https://localhost:8080/"
        }
      },
      "outputs": [
        {
          "output_type": "execute_result",
          "data": {
            "text/plain": [
              "array([1., 1., 1., 1., 1., 1., 1., 1., 1., 1.])"
            ]
          },
          "metadata": {},
          "execution_count": 4
        }
      ],
      "source": [
        "np.ones(10)"
      ]
    },
    {
      "cell_type": "code",
      "execution_count": null,
      "metadata": {
        "id": "4nWzfnDRir2Z",
        "outputId": "7f6fc5a8-97a9-472f-f338-3343c43adbb2"
      },
      "outputs": [
        {
          "data": {
            "text/plain": [
              "array([1., 1., 1., 1., 1., 1., 1., 1., 1., 1.])"
            ]
          },
          "execution_count": 3,
          "metadata": {},
          "output_type": "execute_result"
        }
      ],
      "source": [
        "# не пишите код в этой ячейке"
      ]
    },
    {
      "cell_type": "markdown",
      "metadata": {
        "id": "Xp_eGywZir2Z"
      },
      "source": [
        "#### 4. Создать массив из  10 пятерок"
      ]
    },
    {
      "cell_type": "code",
      "execution_count": 8,
      "metadata": {
        "collapsed": true,
        "id": "0ro7H-IHir2a",
        "outputId": "658bc9ab-ea43-46c4-be98-e1c46d09d38c",
        "colab": {
          "base_uri": "https://localhost:8080/"
        }
      },
      "outputs": [
        {
          "output_type": "execute_result",
          "data": {
            "text/plain": [
              "array([5., 5., 5., 5., 5., 5., 5., 5., 5., 5.])"
            ]
          },
          "metadata": {},
          "execution_count": 8
        }
      ],
      "source": [
        "np.full(10,5, dtype=np.double)\n"
      ]
    },
    {
      "cell_type": "code",
      "execution_count": null,
      "metadata": {
        "id": "K_KbgRQrir2a",
        "outputId": "f3a6d376-93de-4fd1-e43a-83933ce6b2a8"
      },
      "outputs": [
        {
          "data": {
            "text/plain": [
              "array([5., 5., 5., 5., 5., 5., 5., 5., 5., 5.])"
            ]
          },
          "execution_count": 4,
          "metadata": {},
          "output_type": "execute_result"
        }
      ],
      "source": [
        "# не пишите код в этой ячейке"
      ]
    },
    {
      "cell_type": "markdown",
      "metadata": {
        "id": "RfVoPFqAir2a"
      },
      "source": [
        "#### 5. Создать массив из целых чисел от 10 до 50"
      ]
    },
    {
      "cell_type": "code",
      "execution_count": 10,
      "metadata": {
        "collapsed": true,
        "id": "Wgp2jGZFir2b",
        "outputId": "2851ba01-8730-48bd-ef5b-96ff27a9db4f",
        "colab": {
          "base_uri": "https://localhost:8080/"
        }
      },
      "outputs": [
        {
          "output_type": "execute_result",
          "data": {
            "text/plain": [
              "array([10, 11, 12, 13, 14, 15, 16, 17, 18, 19, 20, 21, 22, 23, 24, 25, 26,\n",
              "       27, 28, 29, 30, 31, 32, 33, 34, 35, 36, 37, 38, 39, 40, 41, 42, 43,\n",
              "       44, 45, 46, 47, 48, 49, 50])"
            ]
          },
          "metadata": {},
          "execution_count": 10
        }
      ],
      "source": [
        "np.arange(10,51)"
      ]
    },
    {
      "cell_type": "code",
      "execution_count": null,
      "metadata": {
        "id": "3eJ7-3xyir2b",
        "outputId": "ab4569e1-4fc8-48af-f230-c6e061c7d7db"
      },
      "outputs": [
        {
          "data": {
            "text/plain": [
              "array([10, 11, 12, 13, 14, 15, 16, 17, 18, 19, 20, 21, 22, 23, 24, 25, 26,\n",
              "       27, 28, 29, 30, 31, 32, 33, 34, 35, 36, 37, 38, 39, 40, 41, 42, 43,\n",
              "       44, 45, 46, 47, 48, 49, 50])"
            ]
          },
          "execution_count": 5,
          "metadata": {},
          "output_type": "execute_result"
        }
      ],
      "source": [
        "# не пишите код в этой ячейке"
      ]
    },
    {
      "cell_type": "markdown",
      "metadata": {
        "id": "Pk2jF7vSir2b"
      },
      "source": [
        "#### 6. Создать массив из четных числел от 10 до 50"
      ]
    },
    {
      "cell_type": "code",
      "execution_count": 11,
      "metadata": {
        "collapsed": true,
        "id": "ho5Oyoovir2b",
        "outputId": "787d47ba-1b4a-4a11-f0d2-a2afdc536fad",
        "colab": {
          "base_uri": "https://localhost:8080/"
        }
      },
      "outputs": [
        {
          "output_type": "execute_result",
          "data": {
            "text/plain": [
              "array([10, 12, 14, 16, 18, 20, 22, 24, 26, 28, 30, 32, 34, 36, 38, 40, 42,\n",
              "       44, 46, 48, 50])"
            ]
          },
          "metadata": {},
          "execution_count": 11
        }
      ],
      "source": [
        "np.arange(10,51,2)"
      ]
    },
    {
      "cell_type": "code",
      "execution_count": null,
      "metadata": {
        "id": "c2aSmcmWir2b",
        "outputId": "b47405ab-f734-4bfe-b941-42d041bebc69"
      },
      "outputs": [
        {
          "data": {
            "text/plain": [
              "array([10, 12, 14, 16, 18, 20, 22, 24, 26, 28, 30, 32, 34, 36, 38, 40, 42,\n",
              "       44, 46, 48, 50])"
            ]
          },
          "execution_count": 6,
          "metadata": {},
          "output_type": "execute_result"
        }
      ],
      "source": [
        "# не пишите код в этой ячейке"
      ]
    },
    {
      "cell_type": "markdown",
      "metadata": {
        "id": "qV16Swbqir2c"
      },
      "source": [
        "#### 7. Создать матрицу 3х3 с числами от 0 до 8"
      ]
    },
    {
      "cell_type": "code",
      "execution_count": 30,
      "metadata": {
        "collapsed": true,
        "id": "RPsPP60tir2c",
        "outputId": "45319377-d314-440c-ffcc-ed6e447e6049",
        "colab": {
          "base_uri": "https://localhost:8080/"
        }
      },
      "outputs": [
        {
          "output_type": "execute_result",
          "data": {
            "text/plain": [
              "array([[0, 1, 2],\n",
              "       [3, 4, 5],\n",
              "       [6, 7, 8]])"
            ]
          },
          "metadata": {},
          "execution_count": 30
        }
      ],
      "source": [
        "a = np.arange(0,9)\n",
        "a.reshape(3,-1)"
      ]
    },
    {
      "cell_type": "code",
      "execution_count": null,
      "metadata": {
        "id": "f4ERz1Mtir2c",
        "outputId": "4142ad06-957f-40c1-d932-e25bc43e888b"
      },
      "outputs": [
        {
          "data": {
            "text/plain": [
              "array([[0, 1, 2],\n",
              "       [3, 4, 5],\n",
              "       [6, 7, 8]])"
            ]
          },
          "execution_count": 7,
          "metadata": {},
          "output_type": "execute_result"
        }
      ],
      "source": [
        "# не пишите код в этой ячейке"
      ]
    },
    {
      "cell_type": "markdown",
      "metadata": {
        "id": "97qrEbRair2c"
      },
      "source": [
        "#### 8. Создать единичную матрицу 3x3 "
      ]
    },
    {
      "cell_type": "code",
      "execution_count": 37,
      "metadata": {
        "collapsed": true,
        "id": "D_IBzeuZir2d",
        "outputId": "b62acdc1-b333-44f9-8b89-e4fa20858a63",
        "colab": {
          "base_uri": "https://localhost:8080/"
        }
      },
      "outputs": [
        {
          "output_type": "execute_result",
          "data": {
            "text/plain": [
              "array([[1, 1, 1],\n",
              "       [1, 1, 1],\n",
              "       [1, 1, 1]])"
            ]
          },
          "metadata": {},
          "execution_count": 37
        }
      ],
      "source": [
        "np.ones([3,3],int)"
      ]
    },
    {
      "cell_type": "code",
      "execution_count": 27,
      "metadata": {
        "id": "FfUxWXsfir2e"
      },
      "outputs": [],
      "source": [
        "# не пишите код в этой ячейке"
      ]
    },
    {
      "cell_type": "markdown",
      "metadata": {
        "id": "Cx4bLPinir2e"
      },
      "source": [
        "#### 9. Используйте NumPy для генерации случайного числа от 0 до 1\n",
        "<br>ПРИМЕЧАНИЕ. Значение вашего результата должно отличаться от приведенного ниже."
      ]
    },
    {
      "cell_type": "code",
      "execution_count": null,
      "metadata": {
        "collapsed": true,
        "id": "d7Fpio2kir2e"
      },
      "outputs": [],
      "source": [
        ""
      ]
    },
    {
      "cell_type": "code",
      "execution_count": null,
      "metadata": {
        "id": "39O2Js9Iir2e",
        "outputId": "ef70c293-91e7-49f5-f922-01b02eed8a7c"
      },
      "outputs": [
        {
          "data": {
            "text/plain": [
              "array([0.65248055])"
            ]
          },
          "execution_count": 9,
          "metadata": {},
          "output_type": "execute_result"
        }
      ],
      "source": [
        "# не пишите код в этой ячейке"
      ]
    },
    {
      "cell_type": "markdown",
      "metadata": {
        "id": "rD9iwRadir2f"
      },
      "source": [
        "#### Используйте NumPy для генерации массива из 25 случайных чисел, взятых из стандартного нормального распределения\n",
        "<br>ПРИМЕЧАНИЕ. Значение вашего результата должно отличаться от приведенного ниже."
      ]
    },
    {
      "cell_type": "code",
      "execution_count": null,
      "metadata": {
        "collapsed": true,
        "id": "lk4U5Qthir2f"
      },
      "outputs": [],
      "source": [
        ""
      ]
    },
    {
      "cell_type": "code",
      "execution_count": null,
      "metadata": {
        "id": "_I1TFj7Yir2f",
        "outputId": "9e5ecf33-ad4b-45a7-a76b-115e6dca47fd"
      },
      "outputs": [
        {
          "data": {
            "text/plain": [
              "array([ 1.80076712, -1.12375847, -0.98524305,  0.11673573,  1.96346762,\n",
              "        1.81378592, -0.33790771,  0.85012656,  0.0100703 , -0.91005957,\n",
              "        0.29064366,  0.69906357,  0.1774377 , -0.61958694, -0.45498611,\n",
              "       -2.0804685 , -0.06778549,  1.06403819,  0.4311884 , -1.09853837,\n",
              "        1.11980469, -0.48751963,  1.32517611, -0.61775122, -0.00622865])"
            ]
          },
          "execution_count": 10,
          "metadata": {},
          "output_type": "execute_result"
        }
      ],
      "source": [
        "# не пишите код в этой ячейке"
      ]
    },
    {
      "cell_type": "markdown",
      "metadata": {
        "id": "-L4SI_I2ir2f"
      },
      "source": [
        "#### 11. Создайте следующую матрицу:"
      ]
    },
    {
      "cell_type": "code",
      "execution_count": null,
      "metadata": {
        "collapsed": true,
        "id": "xGosqDpNir2f"
      },
      "outputs": [],
      "source": [
        ""
      ]
    },
    {
      "cell_type": "code",
      "execution_count": null,
      "metadata": {
        "id": "Qu4Dmx3Sir2g",
        "outputId": "abe0b014-6834-4bfa-e1b5-dee8d60894cc"
      },
      "outputs": [
        {
          "data": {
            "text/plain": [
              "array([[0.01, 0.02, 0.03, 0.04, 0.05, 0.06, 0.07, 0.08, 0.09, 0.1 ],\n",
              "       [0.11, 0.12, 0.13, 0.14, 0.15, 0.16, 0.17, 0.18, 0.19, 0.2 ],\n",
              "       [0.21, 0.22, 0.23, 0.24, 0.25, 0.26, 0.27, 0.28, 0.29, 0.3 ],\n",
              "       [0.31, 0.32, 0.33, 0.34, 0.35, 0.36, 0.37, 0.38, 0.39, 0.4 ],\n",
              "       [0.41, 0.42, 0.43, 0.44, 0.45, 0.46, 0.47, 0.48, 0.49, 0.5 ],\n",
              "       [0.51, 0.52, 0.53, 0.54, 0.55, 0.56, 0.57, 0.58, 0.59, 0.6 ],\n",
              "       [0.61, 0.62, 0.63, 0.64, 0.65, 0.66, 0.67, 0.68, 0.69, 0.7 ],\n",
              "       [0.71, 0.72, 0.73, 0.74, 0.75, 0.76, 0.77, 0.78, 0.79, 0.8 ],\n",
              "       [0.81, 0.82, 0.83, 0.84, 0.85, 0.86, 0.87, 0.88, 0.89, 0.9 ],\n",
              "       [0.91, 0.92, 0.93, 0.94, 0.95, 0.96, 0.97, 0.98, 0.99, 1.  ]])"
            ]
          },
          "execution_count": 11,
          "metadata": {},
          "output_type": "execute_result"
        }
      ],
      "source": [
        "# не пишите код в этой ячейке"
      ]
    },
    {
      "cell_type": "markdown",
      "metadata": {
        "id": "5hr__wFYir2g"
      },
      "source": [
        "#### 12. Создайте массив из 20 линейно расположенных точек между 0 и 1:"
      ]
    },
    {
      "cell_type": "code",
      "execution_count": null,
      "metadata": {
        "collapsed": true,
        "id": "132p4-tzir2g"
      },
      "outputs": [],
      "source": [
        ""
      ]
    },
    {
      "cell_type": "code",
      "execution_count": null,
      "metadata": {
        "id": "9WpSd__yir2g",
        "outputId": "3c282b5b-2015-40e7-814a-9c05d55a6c46"
      },
      "outputs": [
        {
          "data": {
            "text/plain": [
              "array([0.        , 0.05263158, 0.10526316, 0.15789474, 0.21052632,\n",
              "       0.26315789, 0.31578947, 0.36842105, 0.42105263, 0.47368421,\n",
              "       0.52631579, 0.57894737, 0.63157895, 0.68421053, 0.73684211,\n",
              "       0.78947368, 0.84210526, 0.89473684, 0.94736842, 1.        ])"
            ]
          },
          "execution_count": 12,
          "metadata": {},
          "output_type": "execute_result"
        }
      ],
      "source": [
        "# не пишите код в этой ячейке"
      ]
    },
    {
      "cell_type": "markdown",
      "metadata": {
        "id": "7Ddp2Xcsir2g"
      },
      "source": [
        "## Numpy индексация и выборка\n",
        "\n",
        "Дана стартовая матрица (обязательно запустите ячейку ниже!). Вам необходимо повторить выходные результаты матрицы:"
      ]
    },
    {
      "cell_type": "code",
      "execution_count": null,
      "metadata": {
        "id": "7_-eQcwkir2h",
        "outputId": "e98e8f03-5b2c-4d5b-8947-4d80e3f4e33e"
      },
      "outputs": [
        {
          "data": {
            "text/plain": [
              "array([[ 1,  2,  3,  4,  5],\n",
              "       [ 6,  7,  8,  9, 10],\n",
              "       [11, 12, 13, 14, 15],\n",
              "       [16, 17, 18, 19, 20],\n",
              "       [21, 22, 23, 24, 25]])"
            ]
          },
          "execution_count": 13,
          "metadata": {},
          "output_type": "execute_result"
        }
      ],
      "source": [
        "# это наша стартовая матрица\n",
        "mat = np.arange(1,26).reshape(5,5)\n",
        "mat"
      ]
    },
    {
      "cell_type": "markdown",
      "metadata": {
        "id": "TZjucaV3ir2h"
      },
      "source": [
        "#### 13. Напишите код, который воспроизводит вывод, показанный ниже.\n"
      ]
    },
    {
      "cell_type": "code",
      "execution_count": null,
      "metadata": {
        "collapsed": true,
        "id": "tPpfHo-8ir2h"
      },
      "outputs": [],
      "source": [
        "# CODE HERE\n"
      ]
    },
    {
      "cell_type": "code",
      "execution_count": null,
      "metadata": {
        "id": "xNNamdx8ir2h",
        "outputId": "d13ecc50-9a98-4a13-8470-9331077d414b"
      },
      "outputs": [
        {
          "data": {
            "text/plain": [
              "array([[12, 13, 14, 15],\n",
              "       [17, 18, 19, 20],\n",
              "       [22, 23, 24, 25]])"
            ]
          },
          "execution_count": 14,
          "metadata": {},
          "output_type": "execute_result"
        }
      ],
      "source": [
        "# не пишите код в этой ячейке"
      ]
    },
    {
      "cell_type": "markdown",
      "metadata": {
        "id": "lEovl3n6ir2h"
      },
      "source": [
        "#### 14. Напишите код, который воспроизводит вывод, показанный ниже."
      ]
    },
    {
      "cell_type": "code",
      "execution_count": null,
      "metadata": {
        "id": "bSg5TMHJir2h"
      },
      "outputs": [],
      "source": [
        ""
      ]
    },
    {
      "cell_type": "code",
      "execution_count": null,
      "metadata": {
        "id": "MzLgjS0Rir2h",
        "outputId": "cad6afc7-a766-425a-a51e-4952dc5eab54"
      },
      "outputs": [
        {
          "data": {
            "text/plain": [
              "20"
            ]
          },
          "execution_count": 15,
          "metadata": {},
          "output_type": "execute_result"
        }
      ],
      "source": [
        "# не пишите код в этой ячейке"
      ]
    },
    {
      "cell_type": "markdown",
      "metadata": {
        "id": "LjuA2Mi1ir2i"
      },
      "source": [
        "#### 15. Напишите код, который воспроизводит вывод, показанный ниже."
      ]
    },
    {
      "cell_type": "code",
      "execution_count": null,
      "metadata": {
        "id": "i5vxse7Rir2i"
      },
      "outputs": [],
      "source": [
        ""
      ]
    },
    {
      "cell_type": "code",
      "execution_count": null,
      "metadata": {
        "id": "AXq4sEy0ir2i",
        "outputId": "7a9a3418-40e0-4a86-8b0e-0a3c5e368b5c"
      },
      "outputs": [
        {
          "data": {
            "text/plain": [
              "array([[ 2],\n",
              "       [ 7],\n",
              "       [12]])"
            ]
          },
          "execution_count": 16,
          "metadata": {},
          "output_type": "execute_result"
        }
      ],
      "source": [
        "# не пишите код в этой ячейке"
      ]
    },
    {
      "cell_type": "markdown",
      "metadata": {
        "id": "zlovrWCAir2i"
      },
      "source": [
        "#### 16. Напишите код, который воспроизводит вывод, показанный ниже."
      ]
    },
    {
      "cell_type": "code",
      "execution_count": null,
      "metadata": {
        "id": "fVL4nxO9ir2i"
      },
      "outputs": [],
      "source": [
        ""
      ]
    },
    {
      "cell_type": "code",
      "execution_count": null,
      "metadata": {
        "id": "0XAHudMVir2i",
        "outputId": "1917a140-5b0e-416b-cd7d-5cbbd8b7ce71"
      },
      "outputs": [
        {
          "data": {
            "text/plain": [
              "array([21, 22, 23, 24, 25])"
            ]
          },
          "execution_count": 17,
          "metadata": {},
          "output_type": "execute_result"
        }
      ],
      "source": [
        "# не пишите код в этой ячейке"
      ]
    },
    {
      "cell_type": "markdown",
      "metadata": {
        "id": "11pfgpOair2i"
      },
      "source": [
        "#### 17. Напишите код, который воспроизводит вывод, показанный ниже."
      ]
    },
    {
      "cell_type": "code",
      "execution_count": null,
      "metadata": {
        "id": "CUvydaZKir2i"
      },
      "outputs": [],
      "source": [
        ""
      ]
    },
    {
      "cell_type": "code",
      "execution_count": null,
      "metadata": {
        "id": "FPwHJRAdir2i",
        "outputId": "b8ca06fc-1505-42dc-f825-2cac22f2810e"
      },
      "outputs": [
        {
          "data": {
            "text/plain": [
              "array([[16, 17, 18, 19, 20],\n",
              "       [21, 22, 23, 24, 25]])"
            ]
          },
          "execution_count": 18,
          "metadata": {},
          "output_type": "execute_result"
        }
      ],
      "source": [
        "# не пишите код в этой ячейке"
      ]
    },
    {
      "cell_type": "markdown",
      "metadata": {
        "id": "G-RHftbcir2j"
      },
      "source": [
        "## Операции NumPy "
      ]
    },
    {
      "cell_type": "markdown",
      "metadata": {
        "id": "_ejf2Axhir2j"
      },
      "source": [
        "#### 18. Получить сумму всех значений в матрице mat"
      ]
    },
    {
      "cell_type": "code",
      "execution_count": null,
      "metadata": {
        "collapsed": true,
        "id": "IRAfu1ZYir2j"
      },
      "outputs": [],
      "source": [
        ""
      ]
    },
    {
      "cell_type": "code",
      "execution_count": null,
      "metadata": {
        "id": "NdIuCr2Wir2j",
        "outputId": "83d0f337-c930-4862-de08-47271b258020"
      },
      "outputs": [
        {
          "data": {
            "text/plain": [
              "325"
            ]
          },
          "execution_count": 19,
          "metadata": {},
          "output_type": "execute_result"
        }
      ],
      "source": [
        "# не пишите код в этой ячейке"
      ]
    },
    {
      "cell_type": "markdown",
      "metadata": {
        "id": "x60_9x-1ir2j"
      },
      "source": [
        "#### 19. Получить стандартное отклонение в матрице mat"
      ]
    },
    {
      "cell_type": "code",
      "execution_count": null,
      "metadata": {
        "collapsed": true,
        "id": "__szi6C-ir2j"
      },
      "outputs": [],
      "source": [
        ""
      ]
    },
    {
      "cell_type": "code",
      "execution_count": null,
      "metadata": {
        "id": "zpP1JX7Rir2j",
        "outputId": "aa3a531c-bd89-41c6-f8a6-adddbe2f696f"
      },
      "outputs": [
        {
          "data": {
            "text/plain": [
              "7.211102550927978"
            ]
          },
          "execution_count": 20,
          "metadata": {},
          "output_type": "execute_result"
        }
      ],
      "source": [
        "# не пишите код в этой ячейке"
      ]
    },
    {
      "cell_type": "markdown",
      "metadata": {
        "id": "P42cK44Lir2j"
      },
      "source": [
        "#### 20. Получить сумму значений в колонках в матрице mat"
      ]
    },
    {
      "cell_type": "code",
      "execution_count": null,
      "metadata": {
        "collapsed": true,
        "id": "puGhzyhAir2j"
      },
      "outputs": [],
      "source": [
        ""
      ]
    },
    {
      "cell_type": "code",
      "execution_count": null,
      "metadata": {
        "id": "TeosGRD8ir2k",
        "outputId": "c8cb5d13-d82d-467d-e624-6adbcce8730e"
      },
      "outputs": [
        {
          "data": {
            "text/plain": [
              "array([55, 60, 65, 70, 75])"
            ]
          },
          "execution_count": 21,
          "metadata": {},
          "output_type": "execute_result"
        }
      ],
      "source": [
        "# не пишите код в этой ячейке"
      ]
    },
    {
      "cell_type": "markdown",
      "metadata": {
        "id": "Rnk1pfsKir2k"
      },
      "source": [
        "## Бонусный вопрос\n",
        "\n",
        "Есть ли способ гарантировать, что мы всегда получим одинаковые случайные числа?"
      ]
    },
    {
      "cell_type": "code",
      "execution_count": null,
      "metadata": {
        "collapsed": true,
        "id": "NqgVwUSdir2k"
      },
      "outputs": [],
      "source": [
        ""
      ]
    }
  ],
  "metadata": {
    "anaconda-cloud": {},
    "kernelspec": {
      "display_name": "Python 3",
      "language": "python",
      "name": "python3"
    },
    "language_info": {
      "codemirror_mode": {
        "name": "ipython",
        "version": 3
      },
      "file_extension": ".py",
      "mimetype": "text/x-python",
      "name": "python",
      "nbconvert_exporter": "python",
      "pygments_lexer": "ipython3",
      "version": "3.7.6"
    },
    "colab": {
      "name": "NumPy-Exercises.ipynb",
      "provenance": [],
      "include_colab_link": true
    }
  },
  "nbformat": 4,
  "nbformat_minor": 0
}