{
  "nbformat": 4,
  "nbformat_minor": 0,
  "metadata": {
    "colab": {
      "name": "Python dop.ipynb",
      "provenance": [],
      "authorship_tag": "ABX9TyM9JblXCz8gqBvNZ/L8b1DN",
      "include_colab_link": true
    },
    "kernelspec": {
      "name": "python3",
      "display_name": "Python 3"
    },
    "language_info": {
      "name": "python"
    }
  },
  "cells": [
    {
      "cell_type": "markdown",
      "metadata": {
        "id": "view-in-github",
        "colab_type": "text"
      },
      "source": [
        "<a href=\"https://colab.research.google.com/github/PavelSazhin27/Innopolis_test/blob/main/Python_dop.ipynb\" target=\"_parent\"><img src=\"https://colab.research.google.com/assets/colab-badge.svg\" alt=\"Open In Colab\"/></a>"
      ]
    },
    {
      "cell_type": "markdown",
      "source": [
        "1. Напишите программу, которая найдет все такие числа, которые делятся на 7, но не делятся на 5, от 2000 до 3200 (включая оба). Полученные числа должны быть напечатаны в последовательности, разделенной запятыми, в одной строке."
      ],
      "metadata": {
        "id": "sG-F7L6DkRee"
      }
    },
    {
      "cell_type": "code",
      "execution_count": 13,
      "metadata": {
        "colab": {
          "base_uri": "https://localhost:8080/"
        },
        "id": "Lq3D8Q7CkCBU",
        "outputId": "6423568e-3303-457c-ada1-347a49060a38"
      },
      "outputs": [
        {
          "output_type": "stream",
          "name": "stdout",
          "text": [
            "[2002, 2009, 2016, 2023, 2037, 2044, 2051, 2058, 2072, 2079, 2086, 2093, 2107, 2114, 2121, 2128, 2142, 2149, 2156, 2163, 2177, 2184, 2191, 2198, 2212, 2219, 2226, 2233, 2247, 2254, 2261, 2268, 2282, 2289, 2296, 2303, 2317, 2324, 2331, 2338, 2352, 2359, 2366, 2373, 2387, 2394, 2401, 2408, 2422, 2429, 2436, 2443, 2457, 2464, 2471, 2478, 2492, 2499, 2506, 2513, 2527, 2534, 2541, 2548, 2562, 2569, 2576, 2583, 2597, 2604, 2611, 2618, 2632, 2639, 2646, 2653, 2667, 2674, 2681, 2688, 2702, 2709, 2716, 2723, 2737, 2744, 2751, 2758, 2772, 2779, 2786, 2793, 2807, 2814, 2821, 2828, 2842, 2849, 2856, 2863, 2877, 2884, 2891, 2898, 2912, 2919, 2926, 2933, 2947, 2954, 2961, 2968, 2982, 2989, 2996, 3003, 3017, 3024, 3031, 3038, 3052, 3059, 3066, 3073, 3087, 3094, 3101, 3108, 3122, 3129, 3136, 3143, 3157, 3164, 3171, 3178, 3192, 3199]\n",
            "138\n"
          ]
        }
      ],
      "source": [
        "# вариант 1\n",
        "l=[]\n",
        "for i in range(2000,3201):\n",
        "  if i%7==0 and i%5!=0:\n",
        "    l.append(i)\n",
        "print(l)\n",
        "print(len(l))"
      ]
    },
    {
      "cell_type": "code",
      "source": [
        "l=[]\n",
        "for i in range(2000,3201):\n",
        "  if i%7==0:\n",
        "    if i%5!=0:\n",
        "      l.append(i)\n",
        "print(l)\n",
        "print(len(l))"
      ],
      "metadata": {
        "colab": {
          "base_uri": "https://localhost:8080/"
        },
        "id": "cK1WmluBmci7",
        "outputId": "b96eec08-68ec-4b5c-92f1-c751e600f4f8"
      },
      "execution_count": 19,
      "outputs": [
        {
          "output_type": "stream",
          "name": "stdout",
          "text": [
            "[2002, 2009, 2016, 2023, 2037, 2044, 2051, 2058, 2072, 2079, 2086, 2093, 2107, 2114, 2121, 2128, 2142, 2149, 2156, 2163, 2177, 2184, 2191, 2198, 2212, 2219, 2226, 2233, 2247, 2254, 2261, 2268, 2282, 2289, 2296, 2303, 2317, 2324, 2331, 2338, 2352, 2359, 2366, 2373, 2387, 2394, 2401, 2408, 2422, 2429, 2436, 2443, 2457, 2464, 2471, 2478, 2492, 2499, 2506, 2513, 2527, 2534, 2541, 2548, 2562, 2569, 2576, 2583, 2597, 2604, 2611, 2618, 2632, 2639, 2646, 2653, 2667, 2674, 2681, 2688, 2702, 2709, 2716, 2723, 2737, 2744, 2751, 2758, 2772, 2779, 2786, 2793, 2807, 2814, 2821, 2828, 2842, 2849, 2856, 2863, 2877, 2884, 2891, 2898, 2912, 2919, 2926, 2933, 2947, 2954, 2961, 2968, 2982, 2989, 2996, 3003, 3017, 3024, 3031, 3038, 3052, 3059, 3066, 3073, 3087, 3094, 3101, 3108, 3122, 3129, 3136, 3143, 3157, 3164, 3171, 3178, 3192, 3199]\n",
            "138\n"
          ]
        }
      ]
    },
    {
      "cell_type": "code",
      "source": [
        "# вариант 2\n",
        "print(*(i for i in range(2000, 3201) if i%7==0 and i%5!=0), sep='|')"
      ],
      "metadata": {
        "colab": {
          "base_uri": "https://localhost:8080/"
        },
        "id": "FY7xChwElP6p",
        "outputId": "1c401ff7-a245-4ec1-acdf-45ec30b86e59"
      },
      "execution_count": 7,
      "outputs": [
        {
          "output_type": "stream",
          "name": "stdout",
          "text": [
            "2002|2009|2016|2023|2037|2044|2051|2058|2072|2079|2086|2093|2107|2114|2121|2128|2142|2149|2156|2163|2177|2184|2191|2198|2212|2219|2226|2233|2247|2254|2261|2268|2282|2289|2296|2303|2317|2324|2331|2338|2352|2359|2366|2373|2387|2394|2401|2408|2422|2429|2436|2443|2457|2464|2471|2478|2492|2499|2506|2513|2527|2534|2541|2548|2562|2569|2576|2583|2597|2604|2611|2618|2632|2639|2646|2653|2667|2674|2681|2688|2702|2709|2716|2723|2737|2744|2751|2758|2772|2779|2786|2793|2807|2814|2821|2828|2842|2849|2856|2863|2877|2884|2891|2898|2912|2919|2926|2933|2947|2954|2961|2968|2982|2989|2996|3003|3017|3024|3031|3038|3052|3059|3066|3073|3087|3094|3101|3108|3122|3129|3136|3143|3157|3164|3171|3178|3192|3199\n"
          ]
        }
      ]
    },
    {
      "cell_type": "markdown",
      "source": [
        "2. Напишите программу, которая может вычислить факториалы заданных чисел. Результаты должны быть напечатаны в последовательности, разделенной запятыми, в одной строке."
      ],
      "metadata": {
        "id": "0VzTSQn-m_Ln"
      }
    },
    {
      "cell_type": "code",
      "source": [
        "n =  int(input())\n",
        "factor = 1\n",
        "k = n\n",
        "if k > 0:\n",
        "  while k > 1:\n",
        "    factor*=k\n",
        "    k-=1\n",
        "  print(\"Факториал от числа\", n , \"равен \", factor)\n",
        "\n",
        "else:\n",
        "  print(\"Ошибка!\")"
      ],
      "metadata": {
        "colab": {
          "base_uri": "https://localhost:8080/"
        },
        "id": "L3A4nszSnixL",
        "outputId": "dd78b94c-a6fd-4389-d2d6-94cb16d29dc9"
      },
      "execution_count": 28,
      "outputs": [
        {
          "output_type": "stream",
          "name": "stdout",
          "text": [
            "6\n",
            "Факториал от числа 6 равен  720\n"
          ]
        }
      ]
    },
    {
      "cell_type": "code",
      "source": [
        "def factorial1(a):\n",
        "  factorial = 1\n",
        "  num = a\n",
        "  if a > 0:\n",
        "    while a > 1:\n",
        "      factorial *=a\n",
        "      a -= 1\n",
        "    print('\\nФакториал числа', num, 'равен ', factorial)\n",
        "  else:\n",
        "    print('\\nНе натуральное число!')"
      ],
      "metadata": {
        "id": "9Wzj9srJqOEv"
      },
      "execution_count": 38,
      "outputs": []
    },
    {
      "cell_type": "code",
      "source": [
        "l = [3, 8, -2, 12]\n",
        "for i in range(len(l)):\n",
        "  print(factorial1(l[i]))"
      ],
      "metadata": {
        "colab": {
          "base_uri": "https://localhost:8080/"
        },
        "id": "WOqToNbVrEnG",
        "outputId": "d5aa3481-b50a-4640-cdea-caf8dd05b9ca"
      },
      "execution_count": 40,
      "outputs": [
        {
          "output_type": "stream",
          "name": "stdout",
          "text": [
            "\n",
            "Факториал числа 3 равен  6\n",
            "None\n",
            "\n",
            "Факториал числа 8 равен  40320\n",
            "None\n",
            "\n",
            "Не натуральное число!\n",
            "None\n",
            "\n",
            "Факториал числа 12 равен  479001600\n",
            "None\n"
          ]
        }
      ]
    },
    {
      "cell_type": "markdown",
      "source": [
        "Напишите программу, которая принимает 2 числа X, Y в качестве входных данных с клавиатуры и генерирует двумерный массив. Значение элемента в i-й строке и j-м столбце массива должно быть i*j.  (нумерация с нуля)\n",
        "\n",
        "Допустим для: i=3, j=5. Результат будет\n",
        "[\n",
        "[0, 0, 0, 0, 0], \n",
        "[0, 1, 2, 3, 4], \n",
        "[0, 2, 4, 6, 8]\n",
        "]\n"
      ],
      "metadata": {
        "id": "UCgVQMBTs1Z4"
      }
    },
    {
      "cell_type": "code",
      "source": [
        "x = int(input())\n",
        "y = int(input())\n",
        "\n",
        "mat = [[0 for j in range(y)] for i in range(x)]\n",
        "\n",
        "for i in range(y):\n",
        "  for j in range(x):\n",
        "    mat[i][j] = i*j\n",
        "print(*mat, sep='\\n')"
      ],
      "metadata": {
        "colab": {
          "base_uri": "https://localhost:8080/"
        },
        "id": "cvMfvVlAtThu",
        "outputId": "7e34d2c1-37c0-4b9c-a59e-eea6158ef3fd"
      },
      "execution_count": 48,
      "outputs": [
        {
          "output_type": "stream",
          "name": "stdout",
          "text": [
            "4\n",
            "4\n",
            "[0, 0, 0, 0]\n",
            "[0, 1, 2, 3]\n",
            "[0, 2, 4, 6]\n",
            "[0, 3, 6, 9]\n"
          ]
        }
      ]
    },
    {
      "cell_type": "code",
      "source": [
        "def generate_spec_matrix(x,y)"
      ],
      "metadata": {
        "id": "zFQ8z2dhs6P3"
      },
      "execution_count": null,
      "outputs": []
    }
  ]
}